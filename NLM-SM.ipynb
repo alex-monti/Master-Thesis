{
 "cells": [
  {
   "cell_type": "code",
   "execution_count": 5,
   "metadata": {},
   "outputs": [],
   "source": [
    "import pandas as pd\n",
    "import numpy as np"
   ]
  },
  {
   "cell_type": "code",
   "execution_count": 6,
   "metadata": {},
   "outputs": [],
   "source": [
    "from functions_NLM import estimate_nested_logit"
   ]
  },
  {
   "cell_type": "code",
   "execution_count": 7,
   "metadata": {},
   "outputs": [],
   "source": [
    "# Load data\n",
    "data = pd.read_csv('./data/swissmetro.dat', sep='\\t')"
   ]
  },
  {
   "cell_type": "code",
   "execution_count": 8,
   "metadata": {},
   "outputs": [],
   "source": [
    "# Determine number of individuals in the data\n",
    "N = len(data['ID'].unique())\n",
    "\n",
    "# Define model parameters\n",
    "beta = np.array([0, 0, 0, 0, 1])\n",
    "beta_names = [\"ASC_CAR\", \"ASC_SM\", \"BETA_TT\", \"BETA_TC\", \"lambda_CAR_TRAIN\"]\n",
    "fixed_params = {}  # No fixed parameters in this example\n",
    "\n",
    "# Define log-likelihood function\n",
    "def log_likelihood_SM(beta, data):\n",
    "    # Define utility functions\n",
    "    data['U_TRAIN'] = beta[2] * data['TRAIN_TT'] + beta[3] * (data['GA'] == 0) * data['TRAIN_CO']\n",
    "    data['U_SM'] = beta[1] + beta[2] * data['SM_TT'] + beta[3] * (data['GA'] == 0) * data['SM_CO']\n",
    "    data['U_CAR'] = beta[0] + beta[2] * data['CAR_TT'] + beta[3] * data['CAR_CO']\n",
    "    \n",
    "    # Avoid numerical issues\n",
    "    data.loc[data['U_TRAIN'] > 700, 'U_TRAIN'] = 700\n",
    "    data.loc[data['U_SM'] > 700, 'U_SM'] = 700\n",
    "    data.loc[data['U_CAR'] > 700, 'U_CAR'] = 700\n",
    "    data.loc[data['U_TRAIN'] < -700, 'U_TRAIN'] = -700\n",
    "    data.loc[data['U_SM'] < -700, 'U_SM'] = -700\n",
    "    data.loc[data['U_CAR'] < -700, 'U_CAR'] = -700\n",
    "    \n",
    "    # Calculate logsum for nests with > 1 alt\n",
    "    data['logsum_CAR_TRAIN'] = np.log(data['TRAIN_AV'] * np.exp(data['U_TRAIN'] / beta[4])\n",
    "                                      + data['CAR_AV'] * np.exp(data['U_CAR'] / beta[4])\n",
    "                                      + (1 - data['TRAIN_AV']) * (1 - data['CAR_AV']))\n",
    "    \n",
    "    # Nest probabilities\n",
    "    data['P_nest_CAR_TRAIN'] = np.exp(beta[4] * data['logsum_CAR_TRAIN']) / \\\n",
    "                               (np.exp(beta[4] * data['logsum_CAR_TRAIN']) + data['SM_AV'] * np.exp(data['U_SM']))\n",
    "    data['P_nest_SM'] = 1 - data['P_nest_CAR_TRAIN']\n",
    "    \n",
    "    # Within nest probabilities for nests with > 1 alt\n",
    "    data['P_CAR_in_CAR_TRAIN'] = (data['CAR_AV'] * np.exp(data['U_CAR'] / beta[4])) / \\\n",
    "                                  (data['TRAIN_AV'] * np.exp(data['U_TRAIN'] / beta[4]) +\n",
    "                                   data['CAR_AV'] * np.exp(data['U_CAR'] / beta[4]))\n",
    "    data['P_TRAIN_in_CAR_TRAIN'] = 1 - data['P_CAR_in_CAR_TRAIN']\n",
    "    \n",
    "    # Full probabilities\n",
    "    data['P_SM'] = data['P_nest_SM']\n",
    "    data['P_TRAIN'] = data['P_nest_CAR_TRAIN'] * data['P_TRAIN_in_CAR_TRAIN']\n",
    "    data['P_CAR'] = data['P_nest_CAR_TRAIN'] * data['P_CAR_in_CAR_TRAIN']\n",
    "    \n",
    "    # Calculate probability for chosen alternative for each row\n",
    "    data['P'] = (data['CHOICE'] == 1) * data['P_TRAIN'] + \\\n",
    "                (data['CHOICE'] == 2) * data['P_SM'] + \\\n",
    "                (data['CHOICE'] == 3) * data['P_CAR']\n",
    "    \n",
    "    # Calculate log-likelihood\n",
    "    LL = data.groupby('ID')['P'].prod().apply(np.log).sum()\n",
    "    \n",
    "    return -LL  # We minimize negative log-likelihood\n"
   ]
  },
  {
   "cell_type": "code",
   "execution_count": 9,
   "metadata": {},
   "outputs": [
    {
     "name": "stderr",
     "output_type": "stream",
     "text": [
      "/Library/Frameworks/Python.framework/Versions/3.10/lib/python3.10/site-packages/scipy/optimize/_numdiff.py:590: RuntimeWarning: invalid value encountered in subtract\n",
      "  df = fun(x) - f0\n",
      "/Library/Frameworks/Python.framework/Versions/3.10/lib/python3.10/site-packages/scipy/optimize/_numdiff.py:590: RuntimeWarning: invalid value encountered in subtract\n",
      "  df = fun(x) - f0\n",
      "/Library/Frameworks/Python.framework/Versions/3.10/lib/python3.10/site-packages/scipy/optimize/_numdiff.py:590: RuntimeWarning: invalid value encountered in subtract\n",
      "  df = fun(x) - f0\n",
      "/Library/Frameworks/Python.framework/Versions/3.10/lib/python3.10/site-packages/scipy/optimize/_numdiff.py:590: RuntimeWarning: invalid value encountered in subtract\n",
      "  df = fun(x) - f0\n",
      "/Library/Frameworks/Python.framework/Versions/3.10/lib/python3.10/site-packages/scipy/optimize/_numdiff.py:590: RuntimeWarning: invalid value encountered in subtract\n",
      "  df = fun(x) - f0\n"
     ]
    },
    {
     "name": "stdout",
     "output_type": "stream",
     "text": [
      "Optimization Results:\n",
      "          Parameter  Estimate  Robust Asymptotic SE  t-statistic  p-value\n",
      "0           ASC_CAR  0.371181              0.003690   100.580885      0.0\n",
      "1            ASC_SM  0.376136              0.027474    13.690681      0.0\n",
      "2           BETA_TT -0.009541              0.000419   -22.744084      0.0\n",
      "3           BETA_TC -0.006313              0.000306   -20.633566      0.0\n",
      "4  lambda_CAR_TRAIN  0.487196              0.018970    25.682932      0.0\n"
     ]
    }
   ],
   "source": [
    "# Estimate parameters\n",
    "result, se, t_stat, p_value = estimate_nested_logit(data, beta, beta_names, log_likelihood_SM)"
   ]
  }
 ],
 "metadata": {
  "kernelspec": {
   "display_name": "Python 3",
   "language": "python",
   "name": "python3"
  },
  "language_info": {
   "codemirror_mode": {
    "name": "ipython",
    "version": 3
   },
   "file_extension": ".py",
   "mimetype": "text/x-python",
   "name": "python",
   "nbconvert_exporter": "python",
   "pygments_lexer": "ipython3",
   "version": "3.10.7"
  }
 },
 "nbformat": 4,
 "nbformat_minor": 2
}
