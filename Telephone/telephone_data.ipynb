{
 "cells": [
  {
   "cell_type": "code",
   "execution_count": 1,
   "id": "6e792580",
   "metadata": {},
   "outputs": [
    {
     "data": {
      "text/plain": [
       "'File telephone_data.py\\n\\nData processing for the telephone case study.\\n\\n:author: Michel Bierlaire, EPFL\\n:date: 2023-04-30 07:23:36.567625\\n\\n'"
      ]
     },
     "execution_count": 1,
     "metadata": {},
     "output_type": "execute_result"
    }
   ],
   "source": [
    "\"\"\"File telephone_data.py\n",
    "\n",
    "Data processing for the telephone case study.\n",
    "\n",
    ":author: Michel Bierlaire, EPFL\n",
    ":date: 2023-04-30 07:23:36.567625\n",
    "\n",
    "\"\"\""
   ]
  },
  {
   "cell_type": "code",
   "execution_count": 3,
   "id": "442bc3b7",
   "metadata": {},
   "outputs": [
    {
     "name": "stdout",
     "output_type": "stream",
     "text": [
      "Collecting biogeme\n",
      "  Downloading biogeme-3.2.13-py3-none-any.whl (203 kB)\n",
      "\u001b[2K     \u001b[90m━━━━━━━━━━━━━━━━━━━━━━━━━━━━━━━━━━━━━\u001b[0m \u001b[32m203.2/203.2 kB\u001b[0m \u001b[31m852.3 kB/s\u001b[0m eta \u001b[36m0:00:00\u001b[0ma \u001b[36m0:00:01\u001b[0m\n",
      "\u001b[?25hCollecting cythonbiogeme==1.0.2\n",
      "  Downloading cythonbiogeme-1.0.2-cp310-cp310-macosx_10_9_universal2.whl (602 kB)\n",
      "\u001b[2K     \u001b[90m━━━━━━━━━━━━━━━━━━━━━━━━━━━━━━━━━━━━━━━\u001b[0m \u001b[32m602.3/602.3 kB\u001b[0m \u001b[31m4.7 MB/s\u001b[0m eta \u001b[36m0:00:00\u001b[0ma \u001b[36m0:00:01\u001b[0m\n",
      "\u001b[?25hCollecting tqdm>=4.64.1\n",
      "  Downloading tqdm-4.66.2-py3-none-any.whl (78 kB)\n",
      "\u001b[2K     \u001b[90m━━━━━━━━━━━━━━━━━━━━━━━━━━━━━━━━━━━━━━━━\u001b[0m \u001b[32m78.3/78.3 kB\u001b[0m \u001b[31m4.4 MB/s\u001b[0m eta \u001b[36m0:00:00\u001b[0m\n",
      "\u001b[?25hCollecting biogeme-optimization==0.0.5\n",
      "  Downloading biogeme_optimization-0.0.5-py3-none-any.whl (47 kB)\n",
      "\u001b[2K     \u001b[90m━━━━━━━━━━━━━━━━━━━━━━━━━━━━━━━━━━━━━━━━\u001b[0m \u001b[32m47.7/47.7 kB\u001b[0m \u001b[31m3.9 MB/s\u001b[0m eta \u001b[36m0:00:00\u001b[0m\n",
      "\u001b[?25hRequirement already satisfied: pandas>=1.3.5 in /Library/Frameworks/Python.framework/Versions/3.10/lib/python3.10/site-packages (from biogeme) (2.2.1)\n",
      "Requirement already satisfied: scipy>=1.7.3 in /Library/Frameworks/Python.framework/Versions/3.10/lib/python3.10/site-packages (from biogeme) (1.12.0)\n",
      "Collecting tomlkit>=0.11.5\n",
      "  Downloading tomlkit-0.12.4-py3-none-any.whl (37 kB)\n",
      "Requirement already satisfied: numpy>=1.24.2 in /Library/Frameworks/Python.framework/Versions/3.10/lib/python3.10/site-packages (from biogeme-optimization==0.0.5->biogeme) (1.26.4)\n",
      "Collecting cython>=0.29.16\n",
      "  Downloading Cython-3.0.9-cp310-cp310-macosx_10_9_x86_64.whl (3.1 MB)\n",
      "\u001b[2K     \u001b[90m━━━━━━━━━━━━━━━━━━━━━━━━━━━━━━━━━━━━━━━━\u001b[0m \u001b[32m3.1/3.1 MB\u001b[0m \u001b[31m6.2 MB/s\u001b[0m eta \u001b[36m0:00:00\u001b[0m00:01\u001b[0m00:01\u001b[0m\n",
      "\u001b[?25hRequirement already satisfied: pytz>=2020.1 in /Library/Frameworks/Python.framework/Versions/3.10/lib/python3.10/site-packages (from pandas>=1.3.5->biogeme) (2024.1)\n",
      "Requirement already satisfied: python-dateutil>=2.8.2 in /Users/alex/Library/Python/3.10/lib/python/site-packages (from pandas>=1.3.5->biogeme) (2.8.2)\n",
      "Requirement already satisfied: tzdata>=2022.7 in /Library/Frameworks/Python.framework/Versions/3.10/lib/python3.10/site-packages (from pandas>=1.3.5->biogeme) (2024.1)\n",
      "Requirement already satisfied: six>=1.5 in /Users/alex/Library/Python/3.10/lib/python/site-packages (from python-dateutil>=2.8.2->pandas>=1.3.5->biogeme) (1.16.0)\n",
      "Installing collected packages: tqdm, tomlkit, cython, biogeme-optimization, cythonbiogeme, biogeme\n",
      "Successfully installed biogeme-3.2.13 biogeme-optimization-0.0.5 cython-3.0.9 cythonbiogeme-1.0.2 tomlkit-0.12.4 tqdm-4.66.2\n",
      "--- Logging error ---\n",
      "Traceback (most recent call last):\n",
      "  File \"/Library/Frameworks/Python.framework/Versions/3.10/lib/python3.10/site-packages/pip/_internal/utils/logging.py\", line 177, in emit\n",
      "    self.console.print(renderable, overflow=\"ignore\", crop=False, style=style)\n",
      "  File \"/Library/Frameworks/Python.framework/Versions/3.10/lib/python3.10/site-packages/pip/_vendor/rich/console.py\", line 1673, in print\n",
      "    extend(render(renderable, render_options))\n",
      "  File \"/Library/Frameworks/Python.framework/Versions/3.10/lib/python3.10/site-packages/pip/_vendor/rich/console.py\", line 1305, in render\n",
      "    for render_output in iter_render:\n",
      "  File \"/Library/Frameworks/Python.framework/Versions/3.10/lib/python3.10/site-packages/pip/_internal/utils/logging.py\", line 134, in __rich_console__\n",
      "    for line in lines:\n",
      "  File \"/Library/Frameworks/Python.framework/Versions/3.10/lib/python3.10/site-packages/pip/_vendor/rich/segment.py\", line 249, in split_lines\n",
      "    for segment in segments:\n",
      "  File \"/Library/Frameworks/Python.framework/Versions/3.10/lib/python3.10/site-packages/pip/_vendor/rich/console.py\", line 1283, in render\n",
      "    renderable = rich_cast(renderable)\n",
      "  File \"/Library/Frameworks/Python.framework/Versions/3.10/lib/python3.10/site-packages/pip/_vendor/rich/protocol.py\", line 36, in rich_cast\n",
      "    renderable = cast_method()\n",
      "  File \"/Library/Frameworks/Python.framework/Versions/3.10/lib/python3.10/site-packages/pip/_internal/self_outdated_check.py\", line 130, in __rich__\n",
      "    pip_cmd = get_best_invocation_for_this_pip()\n",
      "  File \"/Library/Frameworks/Python.framework/Versions/3.10/lib/python3.10/site-packages/pip/_internal/utils/entrypoints.py\", line 58, in get_best_invocation_for_this_pip\n",
      "    if found_executable and os.path.samefile(\n",
      "  File \"/Library/Frameworks/Python.framework/Versions/3.10/lib/python3.10/genericpath.py\", line 101, in samefile\n",
      "    s2 = os.stat(f2)\n",
      "FileNotFoundError: [Errno 2] No such file or directory: '/Library/Frameworks/Python.framework/Versions/3.10/bin/pip'\n",
      "Call stack:\n",
      "  File \"/Library/Frameworks/Python.framework/Versions/3.10/lib/python3.10/runpy.py\", line 196, in _run_module_as_main\n",
      "    return _run_code(code, main_globals, None,\n",
      "  File \"/Library/Frameworks/Python.framework/Versions/3.10/lib/python3.10/runpy.py\", line 86, in _run_code\n",
      "    exec(code, run_globals)\n",
      "  File \"/Library/Frameworks/Python.framework/Versions/3.10/lib/python3.10/site-packages/pip/__main__.py\", line 31, in <module>\n",
      "    sys.exit(_main())\n",
      "  File \"/Library/Frameworks/Python.framework/Versions/3.10/lib/python3.10/site-packages/pip/_internal/cli/main.py\", line 70, in main\n",
      "    return command.main(cmd_args)\n",
      "  File \"/Library/Frameworks/Python.framework/Versions/3.10/lib/python3.10/site-packages/pip/_internal/cli/base_command.py\", line 101, in main\n",
      "    return self._main(args)\n",
      "  File \"/Library/Frameworks/Python.framework/Versions/3.10/lib/python3.10/site-packages/pip/_internal/cli/base_command.py\", line 223, in _main\n",
      "    self.handle_pip_version_check(options)\n",
      "  File \"/Library/Frameworks/Python.framework/Versions/3.10/lib/python3.10/site-packages/pip/_internal/cli/req_command.py\", line 190, in handle_pip_version_check\n",
      "    pip_self_version_check(session, options)\n",
      "  File \"/Library/Frameworks/Python.framework/Versions/3.10/lib/python3.10/site-packages/pip/_internal/self_outdated_check.py\", line 236, in pip_self_version_check\n",
      "    logger.warning(\"[present-rich] %s\", upgrade_prompt)\n",
      "  File \"/Library/Frameworks/Python.framework/Versions/3.10/lib/python3.10/logging/__init__.py\", line 1489, in warning\n",
      "    self._log(WARNING, msg, args, **kwargs)\n",
      "  File \"/Library/Frameworks/Python.framework/Versions/3.10/lib/python3.10/logging/__init__.py\", line 1624, in _log\n",
      "    self.handle(record)\n",
      "  File \"/Library/Frameworks/Python.framework/Versions/3.10/lib/python3.10/logging/__init__.py\", line 1634, in handle\n",
      "    self.callHandlers(record)\n",
      "  File \"/Library/Frameworks/Python.framework/Versions/3.10/lib/python3.10/logging/__init__.py\", line 1696, in callHandlers\n",
      "    hdlr.handle(record)\n",
      "  File \"/Library/Frameworks/Python.framework/Versions/3.10/lib/python3.10/logging/__init__.py\", line 968, in handle\n",
      "    self.emit(record)\n",
      "  File \"/Library/Frameworks/Python.framework/Versions/3.10/lib/python3.10/site-packages/pip/_internal/utils/logging.py\", line 179, in emit\n",
      "    self.handleError(record)\n",
      "Message: '[present-rich] %s'\n",
      "Arguments: (UpgradePrompt(old='22.2.2', new='24.0'),)\n",
      "Note: you may need to restart the kernel to use updated packages.\n"
     ]
    }
   ],
   "source": [
    "%pip install biogeme"
   ]
  },
  {
   "cell_type": "code",
   "execution_count": 4,
   "id": "a12731f1",
   "metadata": {},
   "outputs": [],
   "source": [
    "import pandas as pd\n",
    "import biogeme.database as db\n",
    "from biogeme.expressions import Variable, log"
   ]
  },
  {
   "cell_type": "markdown",
   "id": "8165f2c5",
   "metadata": {},
   "source": [
    "Read the data"
   ]
  },
  {
   "cell_type": "code",
   "execution_count": null,
   "id": "0e072e3e",
   "metadata": {},
   "outputs": [],
   "source": [
    "df = pd.read_csv('telephone.dat', sep='\\t')\n",
    "database = db.Database('telephone', df)"
   ]
  },
  {
   "cell_type": "code",
   "execution_count": null,
   "id": "7fd85a69",
   "metadata": {},
   "outputs": [],
   "source": [
    "age0 = Variable('age0')\n",
    "age1 = Variable('age1')\n",
    "age2 = Variable('age2')\n",
    "age3 = Variable('age3')\n",
    "age4 = Variable('age4')\n",
    "age5 = Variable('age5')\n",
    "age6 = Variable('age6')\n",
    "age7 = Variable('age7')\n",
    "area = Variable('area')\n",
    "avail1 = Variable('avail1')\n",
    "avail2 = Variable('avail2')\n",
    "avail3 = Variable('avail3')\n",
    "avail4 = Variable('avail4')\n",
    "avail5 = Variable('avail5')\n",
    "choice = Variable('choice')\n",
    "cost1 = Variable('cost1')\n",
    "cost2 = Variable('cost2')\n",
    "cost3 = Variable('cost3')\n",
    "cost4 = Variable('cost4')\n",
    "cost5 = Variable('cost5')\n",
    "employ = Variable('employ')\n",
    "inc = Variable('inc')\n",
    "ones = Variable('ones')\n",
    "status = Variable('status')\n",
    "users = Variable('users')"
   ]
  },
  {
   "cell_type": "code",
   "execution_count": null,
   "id": "7a79e30a",
   "metadata": {},
   "outputs": [],
   "source": [
    "low_income = database.DefineVariable('low_income', inc == 1)\n",
    "medium_income = database.DefineVariable('medium_income', (inc >= 2) * (inc <= 4))\n",
    "high_income = database.DefineVariable('high_income', inc == 5)\n",
    "logcostBM = database.DefineVariable('logcostBM', log(cost1))\n",
    "logcostSM = database.DefineVariable('logcostSM', log(cost2))\n",
    "logcostLF = database.DefineVariable('logcostLF', log(cost3))\n",
    "logcostEF = database.DefineVariable('logcostEF', log(cost4))\n",
    "logcostMF = database.DefineVariable('logcostMF', log(cost5))"
   ]
  }
 ],
 "metadata": {
  "jupytext": {
   "cell_metadata_filter": "-all",
   "main_language": "python",
   "notebook_metadata_filter": "-all"
  },
  "kernelspec": {
   "display_name": "Python 3",
   "language": "python",
   "name": "python3"
  },
  "language_info": {
   "codemirror_mode": {
    "name": "ipython",
    "version": 3
   },
   "file_extension": ".py",
   "mimetype": "text/x-python",
   "name": "python",
   "nbconvert_exporter": "python",
   "pygments_lexer": "ipython3",
   "version": "3.10.7"
  }
 },
 "nbformat": 4,
 "nbformat_minor": 5
}
