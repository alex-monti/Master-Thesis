{
 "cells": [
  {
   "cell_type": "code",
   "execution_count": 1,
   "id": "c6f8a42f",
   "metadata": {},
   "outputs": [
    {
     "data": {
      "text/plain": [
       "':file: MEV_telephone_cross_fix.py\\n\\nVersion for Biogeme 3.2.13\\n\\n:author: Michel Bierlaire\\n:date: Fri Apr 28 10:07:58 2023\\n\\n'"
      ]
     },
     "execution_count": 1,
     "metadata": {},
     "output_type": "execute_result"
    }
   ],
   "source": [
    "\"\"\":file: MEV_telephone_cross_fix.py\n",
    "\n",
    "Version for Biogeme 3.2.13\n",
    "\n",
    ":author: Michel Bierlaire\n",
    ":date: Fri Apr 28 10:07:58 2023\n",
    "\n",
    "\"\"\""
   ]
  },
  {
   "cell_type": "code",
   "execution_count": 2,
   "id": "0c947554",
   "metadata": {},
   "outputs": [],
   "source": [
    "import biogeme.biogeme as bio\n",
    "from biogeme.expressions import Beta\n",
    "from biogeme.models import logcnl\n",
    "from biogeme.nests import OneNestForCrossNestedLogit, NestsForCrossNestedLogit"
   ]
  },
  {
   "cell_type": "code",
   "execution_count": 3,
   "id": "7ac33c8e",
   "metadata": {
    "lines_to_next_cell": 2
   },
   "outputs": [],
   "source": [
    "from telephone_data import (\n",
    "    database,\n",
    "    choice,\n",
    "    avail1,\n",
    "    avail2,\n",
    "    avail3,\n",
    "    avail4,\n",
    "    avail5,\n",
    "    logcostBM,\n",
    "    logcostSM,\n",
    "    logcostLF,\n",
    "    logcostEF,\n",
    "    logcostMF,\n",
    ")"
   ]
  },
  {
   "cell_type": "markdown",
   "id": "59ec1ce0",
   "metadata": {},
   "source": [
    "Parameters to be estimated\n",
    "Arguments:\n",
    "  1  Name for report. Typically, the same as the variable\n",
    "  2  Starting value\n",
    "  3  Lower bound\n",
    "  4  Upper bound\n",
    "  5  0: estimate the parameter, 1: keep it fixed"
   ]
  },
  {
   "cell_type": "code",
   "execution_count": 4,
   "id": "c55da0da",
   "metadata": {},
   "outputs": [],
   "source": [
    "ASC_BM = Beta('ASC_BM', 0, None, None, 0)\n",
    "ASC_EF = Beta('ASC_EF', 0, None, None, 0)\n",
    "ASC_LF = Beta('ASC_LF', 0, None, None, 0)\n",
    "ASC_MF = Beta('ASC_MF', 0, None, None, 0)\n",
    "B_COST = Beta('B_COST', 0, None, None, 0)"
   ]
  },
  {
   "cell_type": "markdown",
   "id": "134ae802",
   "metadata": {},
   "source": [
    "Nest parameters"
   ]
  },
  {
   "cell_type": "code",
   "execution_count": 5,
   "id": "2829b5cf",
   "metadata": {},
   "outputs": [],
   "source": [
    "N_FLAT = Beta('N_FLAT', 1, None, None, 0)\n",
    "N_MEAS = Beta('N_MEAS', 1, None, None, 0)"
   ]
  },
  {
   "cell_type": "code",
   "execution_count": 6,
   "id": "84e48f0a",
   "metadata": {},
   "outputs": [],
   "source": [
    "A_FLAT_LF = 0.5\n",
    "A_MEAS_LF = 0.5"
   ]
  },
  {
   "cell_type": "markdown",
   "id": "a1c700ef",
   "metadata": {},
   "source": [
    "Define here arithmetic expressions for names that are not directly\n",
    "available from the data"
   ]
  },
  {
   "cell_type": "markdown",
   "id": "8a32cb77",
   "metadata": {},
   "source": [
    "Utilities"
   ]
  },
  {
   "cell_type": "code",
   "execution_count": 7,
   "id": "00179b0b",
   "metadata": {},
   "outputs": [],
   "source": [
    "V_BM = ASC_BM + B_COST * logcostBM\n",
    "V_SM = B_COST * logcostSM\n",
    "V_LF = ASC_LF + B_COST * logcostLF\n",
    "V_EF = ASC_EF + B_COST * logcostEF\n",
    "V_MF = ASC_MF + B_COST * logcostMF"
   ]
  },
  {
   "cell_type": "code",
   "execution_count": 8,
   "id": "33ba0e5d",
   "metadata": {},
   "outputs": [],
   "source": [
    "V = {1: V_BM, 2: V_SM, 3: V_LF, 4: V_EF, 5: V_MF}\n",
    "avail = {1: avail1, 2: avail2, 3: avail3, 4: avail4, 5: avail5}"
   ]
  },
  {
   "cell_type": "markdown",
   "id": "d11fc02b",
   "metadata": {},
   "source": [
    "Definitions of nests"
   ]
  },
  {
   "cell_type": "code",
   "execution_count": 9,
   "id": "a187fdb3",
   "metadata": {},
   "outputs": [],
   "source": [
    "alpha_N_FLAT = {1: 0, 2: 0, 3: A_FLAT_LF, 4: 1, 5: 1}\n",
    "alpha_N_MEAS = {1: 1, 2: 1, 3: A_MEAS_LF, 4: 0, 5: 0}"
   ]
  },
  {
   "cell_type": "code",
   "execution_count": 10,
   "id": "0e9e08a3",
   "metadata": {},
   "outputs": [],
   "source": [
    "nest_N_FLAT = OneNestForCrossNestedLogit(\n",
    "    nest_param=N_FLAT, dict_of_alpha=alpha_N_FLAT, name='flat'\n",
    ")\n",
    "nest_N_MEAS = OneNestForCrossNestedLogit(\n",
    "    nest_param=N_MEAS, dict_of_alpha=alpha_N_MEAS, name='measured'\n",
    ")"
   ]
  },
  {
   "cell_type": "code",
   "execution_count": 11,
   "id": "4ca7543f",
   "metadata": {},
   "outputs": [],
   "source": [
    "nests = NestsForCrossNestedLogit(\n",
    "    choice_set=list(V), tuple_of_nests=(nest_N_FLAT, nest_N_MEAS)\n",
    ")"
   ]
  },
  {
   "cell_type": "markdown",
   "id": "b139d02e",
   "metadata": {},
   "source": [
    "CNL with fixed alphas"
   ]
  },
  {
   "cell_type": "code",
   "execution_count": 12,
   "id": "0962c0c6",
   "metadata": {},
   "outputs": [],
   "source": [
    "logprob = logcnl(V, avail, nests, choice)\n",
    "the_biogeme = bio.BIOGEME(database, logprob)\n",
    "the_biogeme.modelName = 'MEV_telephone_cross_fix'\n",
    "the_biogeme.calculateNullLoglikelihood(avail)\n",
    "results = the_biogeme.estimate()"
   ]
  },
  {
   "cell_type": "markdown",
   "id": "134ae7dc",
   "metadata": {},
   "source": [
    "Get the results in a pandas table"
   ]
  },
  {
   "cell_type": "code",
   "execution_count": 13,
   "id": "e2714a37",
   "metadata": {},
   "outputs": [
    {
     "name": "stdout",
     "output_type": "stream",
     "text": [
      "           Value  Rob. Std err  Rob. t-test  Rob. p-value\n",
      "ASC_BM -1.635755      0.530693    -3.082298  2.054088e-03\n",
      "ASC_EF  2.426337      1.630259     1.488314  1.366681e-01\n",
      "ASC_LF  2.199657      0.638822     3.443300  5.746611e-04\n",
      "ASC_MF  4.084708      1.166941     3.500354  4.646411e-04\n",
      "B_COST -3.354166      0.548565    -6.114433  9.690115e-10\n",
      "N_FLAT  0.510742      0.205475     2.485670  1.293079e-02\n",
      "N_MEAS  0.393418      0.102387     3.842454  1.218100e-04\n"
     ]
    }
   ],
   "source": [
    "pandasResults = results.getEstimatedParameters()\n",
    "print(pandasResults)"
   ]
  },
  {
   "cell_type": "code",
   "execution_count": 14,
   "id": "f1d48d0f",
   "metadata": {},
   "outputs": [
    {
     "data": {
      "text/html": [
       "<div>\n",
       "<style scoped>\n",
       "    .dataframe tbody tr th:only-of-type {\n",
       "        vertical-align: middle;\n",
       "    }\n",
       "\n",
       "    .dataframe tbody tr th {\n",
       "        vertical-align: top;\n",
       "    }\n",
       "\n",
       "    .dataframe thead th {\n",
       "        text-align: right;\n",
       "    }\n",
       "</style>\n",
       "<table border=\"1\" class=\"dataframe\">\n",
       "  <thead>\n",
       "    <tr style=\"text-align: right;\">\n",
       "      <th></th>\n",
       "      <th>Value</th>\n",
       "      <th>Rob. Std err</th>\n",
       "      <th>Rob. t-test</th>\n",
       "      <th>Rob. p-value</th>\n",
       "    </tr>\n",
       "  </thead>\n",
       "  <tbody>\n",
       "    <tr>\n",
       "      <th>ASC_BM</th>\n",
       "      <td>-1.635755</td>\n",
       "      <td>0.530693</td>\n",
       "      <td>-3.082298</td>\n",
       "      <td>2.054088e-03</td>\n",
       "    </tr>\n",
       "    <tr>\n",
       "      <th>ASC_EF</th>\n",
       "      <td>2.426337</td>\n",
       "      <td>1.630259</td>\n",
       "      <td>1.488314</td>\n",
       "      <td>1.366681e-01</td>\n",
       "    </tr>\n",
       "    <tr>\n",
       "      <th>ASC_LF</th>\n",
       "      <td>2.199657</td>\n",
       "      <td>0.638822</td>\n",
       "      <td>3.443300</td>\n",
       "      <td>5.746611e-04</td>\n",
       "    </tr>\n",
       "    <tr>\n",
       "      <th>ASC_MF</th>\n",
       "      <td>4.084708</td>\n",
       "      <td>1.166941</td>\n",
       "      <td>3.500354</td>\n",
       "      <td>4.646411e-04</td>\n",
       "    </tr>\n",
       "    <tr>\n",
       "      <th>B_COST</th>\n",
       "      <td>-3.354166</td>\n",
       "      <td>0.548565</td>\n",
       "      <td>-6.114433</td>\n",
       "      <td>9.690115e-10</td>\n",
       "    </tr>\n",
       "    <tr>\n",
       "      <th>N_FLAT</th>\n",
       "      <td>0.510742</td>\n",
       "      <td>0.205475</td>\n",
       "      <td>2.485670</td>\n",
       "      <td>1.293079e-02</td>\n",
       "    </tr>\n",
       "    <tr>\n",
       "      <th>N_MEAS</th>\n",
       "      <td>0.393418</td>\n",
       "      <td>0.102387</td>\n",
       "      <td>3.842454</td>\n",
       "      <td>1.218100e-04</td>\n",
       "    </tr>\n",
       "  </tbody>\n",
       "</table>\n",
       "</div>"
      ],
      "text/plain": [
       "           Value  Rob. Std err  Rob. t-test  Rob. p-value\n",
       "ASC_BM -1.635755      0.530693    -3.082298  2.054088e-03\n",
       "ASC_EF  2.426337      1.630259     1.488314  1.366681e-01\n",
       "ASC_LF  2.199657      0.638822     3.443300  5.746611e-04\n",
       "ASC_MF  4.084708      1.166941     3.500354  4.646411e-04\n",
       "B_COST -3.354166      0.548565    -6.114433  9.690115e-10\n",
       "N_FLAT  0.510742      0.205475     2.485670  1.293079e-02\n",
       "N_MEAS  0.393418      0.102387     3.842454  1.218100e-04"
      ]
     },
     "execution_count": 14,
     "metadata": {},
     "output_type": "execute_result"
    }
   ],
   "source": [
    "pandasResults"
   ]
  },
  {
   "cell_type": "code",
   "execution_count": 15,
   "id": "6df4b397",
   "metadata": {},
   "outputs": [
    {
     "name": "stdout",
     "output_type": "stream",
     "text": [
      "Nbr of observations: 434\n",
      "LL(0) =    -473.606\n",
      "LL(beta) = -473.606\n",
      "AIC = 961.2\n",
      "Output file: MEV_telephone_cross_fix~00.html\n"
     ]
    }
   ],
   "source": [
    "print(f'Nbr of observations: {database.getNumberOfObservations()}')\n",
    "print(f'LL(0) =    {results.data.initLogLike:.3f}')\n",
    "print(f'LL(beta) = {results.data.logLike:.3f}')\n",
    "print(f'AIC = {results.data.akaike:.1f}')\n",
    "print(f'Output file: {results.data.htmlFileName}')"
   ]
  }
 ],
 "metadata": {
  "jupytext": {
   "cell_metadata_filter": "-all",
   "main_language": "python",
   "notebook_metadata_filter": "-all"
  },
  "kernelspec": {
   "display_name": "Python 3",
   "language": "python",
   "name": "python3"
  },
  "language_info": {
   "codemirror_mode": {
    "name": "ipython",
    "version": 3
   },
   "file_extension": ".py",
   "mimetype": "text/x-python",
   "name": "python",
   "nbconvert_exporter": "python",
   "pygments_lexer": "ipython3",
   "version": "3.10.7"
  }
 },
 "nbformat": 4,
 "nbformat_minor": 5
}
