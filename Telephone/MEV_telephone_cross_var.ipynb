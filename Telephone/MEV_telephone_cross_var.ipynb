{
 "cells": [
  {
   "cell_type": "code",
   "execution_count": null,
   "id": "fa1fce1c",
   "metadata": {},
   "outputs": [],
   "source": [
    "\"\"\":file: MEV_telephone_cross_var.py\n",
    "\n",
    "Version for Biogeme 3.2.13\n",
    "\n",
    ":author: Michel Bierlaire\n",
    ":date: Fri Apr 28 10:19:38 2023\n",
    "\n",
    "\"\"\""
   ]
  },
  {
   "cell_type": "code",
   "execution_count": null,
   "id": "d18a973f",
   "metadata": {},
   "outputs": [],
   "source": [
    "import biogeme.results as res\n",
    "from biogeme.exceptions import BiogemeError\n",
    "import biogeme.biogeme as bio\n",
    "from biogeme.expressions import Beta\n",
    "from biogeme.models import logcnl\n",
    "from biogeme.nests import OneNestForCrossNestedLogit, NestsForCrossNestedLogit"
   ]
  },
  {
   "cell_type": "code",
   "execution_count": null,
   "id": "48d0c2e3",
   "metadata": {},
   "outputs": [],
   "source": [
    "from telephone_data import (\n",
    "    database,\n",
    "    choice,\n",
    "    avail1,\n",
    "    avail2,\n",
    "    avail3,\n",
    "    avail4,\n",
    "    avail5,\n",
    "    logcostBM,\n",
    "    logcostSM,\n",
    "    logcostLF,\n",
    "    logcostEF,\n",
    "    logcostMF,\n",
    ")"
   ]
  },
  {
   "cell_type": "markdown",
   "id": "15ad1ab0",
   "metadata": {},
   "source": [
    "Parameters to be estimated\n",
    "Arguments:\n",
    "  1  Name for report. Typically, the same as the variable\n",
    "  2  Starting value\n",
    "  3  Lower bound\n",
    "  4  Upper bound\n",
    "  5  0: estimate the parameter, 1: keep it fixed"
   ]
  },
  {
   "cell_type": "code",
   "execution_count": null,
   "id": "22b2335a",
   "metadata": {},
   "outputs": [],
   "source": [
    "ASC_BM = Beta('ASC_BM', 0, None, None, 0)\n",
    "ASC_EF = Beta('ASC_EF', 0, None, None, 0)\n",
    "ASC_LF = Beta('ASC_LF', 0, None, None, 0)\n",
    "ASC_MF = Beta('ASC_MF', 0, None, None, 0)\n",
    "B_COST = Beta('B_COST', 0, None, None, 0)"
   ]
  },
  {
   "cell_type": "markdown",
   "id": "2a447614",
   "metadata": {},
   "source": [
    "Nest parameters"
   ]
  },
  {
   "cell_type": "code",
   "execution_count": null,
   "id": "7ebeb4fd",
   "metadata": {},
   "outputs": [],
   "source": [
    "N_FLAT = Beta('N_FLAT', 1, None, None, 0)\n",
    "N_MEAS = Beta('N_MEAS', 1, None, None, 0)"
   ]
  },
  {
   "cell_type": "code",
   "execution_count": null,
   "id": "0ca01668",
   "metadata": {},
   "outputs": [],
   "source": [
    "a_FLAT_LF = Beta('a_FLAT_LF', 0.5, 0, 1, 0)\n",
    "a_MEAS_LF = 1 - a_FLAT_LF"
   ]
  },
  {
   "cell_type": "markdown",
   "id": "82733886",
   "metadata": {},
   "source": [
    "Utilities"
   ]
  },
  {
   "cell_type": "code",
   "execution_count": null,
   "id": "de552698",
   "metadata": {},
   "outputs": [],
   "source": [
    "V_BM = ASC_BM + B_COST * logcostBM\n",
    "V_SM = B_COST * logcostSM\n",
    "V_LF = ASC_LF + B_COST * logcostLF\n",
    "V_EF = ASC_EF + B_COST * logcostEF\n",
    "V_MF = ASC_MF + B_COST * logcostMF"
   ]
  },
  {
   "cell_type": "code",
   "execution_count": null,
   "id": "12bfaa1b",
   "metadata": {},
   "outputs": [],
   "source": [
    "V = {1: V_BM, 2: V_SM, 3: V_LF, 4: V_EF, 5: V_MF}\n",
    "avail = {1: avail1, 2: avail2, 3: avail3, 4: avail4, 5: avail5}"
   ]
  },
  {
   "cell_type": "markdown",
   "id": "98d72ebd",
   "metadata": {},
   "source": [
    "Definitions of nests"
   ]
  },
  {
   "cell_type": "code",
   "execution_count": null,
   "id": "94e796fd",
   "metadata": {},
   "outputs": [],
   "source": [
    "alpha_N_FLAT = {1: 0, 2: 0, 3: a_FLAT_LF, 4: 1, 5: 1}\n",
    "alpha_N_MEAS = {1: 1, 2: 1, 3: a_MEAS_LF, 4: 0, 5: 0}"
   ]
  },
  {
   "cell_type": "code",
   "execution_count": null,
   "id": "c7557f08",
   "metadata": {},
   "outputs": [],
   "source": [
    "nest_N_FLAT = OneNestForCrossNestedLogit(\n",
    "    nest_param=N_FLAT, dict_of_alpha=alpha_N_FLAT, name='flat'\n",
    ")\n",
    "nest_N_MEAS = OneNestForCrossNestedLogit(\n",
    "    nest_param=N_MEAS, dict_of_alpha=alpha_N_MEAS, name='measured'\n",
    ")"
   ]
  },
  {
   "cell_type": "code",
   "execution_count": null,
   "id": "1909076f",
   "metadata": {},
   "outputs": [],
   "source": [
    "nests = NestsForCrossNestedLogit(\n",
    "    choice_set=list(V), tuple_of_nests=(nest_N_FLAT, nest_N_MEAS)\n",
    ")"
   ]
  },
  {
   "cell_type": "markdown",
   "id": "1da968f7",
   "metadata": {},
   "source": [
    "CNL with fixed alphas"
   ]
  },
  {
   "cell_type": "code",
   "execution_count": null,
   "id": "dbf2f70c",
   "metadata": {},
   "outputs": [],
   "source": [
    "logprob = logcnl(V, avail, nests, choice)\n",
    "the_biogeme = bio.BIOGEME(database, logprob)\n",
    "the_biogeme.modelName = 'MEV_telephone_cross_var'\n",
    "the_biogeme.calculateNullLoglikelihood(avail)\n",
    "results = the_biogeme.estimate()"
   ]
  },
  {
   "cell_type": "markdown",
   "id": "e2a64a6b",
   "metadata": {},
   "source": [
    "Get the results in a pandas table"
   ]
  },
  {
   "cell_type": "code",
   "execution_count": null,
   "id": "40ad282f",
   "metadata": {},
   "outputs": [],
   "source": [
    "pandasResults = results.getEstimatedParameters()\n",
    "print(pandasResults)"
   ]
  },
  {
   "cell_type": "code",
   "execution_count": null,
   "id": "019a4794",
   "metadata": {},
   "outputs": [],
   "source": [
    "pandasResults"
   ]
  },
  {
   "cell_type": "code",
   "execution_count": null,
   "id": "ec5e83b5",
   "metadata": {},
   "outputs": [],
   "source": [
    "print(f'Nbr of observations: {database.getNumberOfObservations()}')\n",
    "print(f'LL(0) =    {results.data.initLogLike:.3f}')\n",
    "print(f'LL(beta) = {results.data.logLike:.3f}')\n",
    "print(f'AIC = {results.data.akaike:.1f}')\n",
    "print(f'Output file: {results.data.htmlFileName}')"
   ]
  },
  {
   "cell_type": "markdown",
   "id": "06af5800",
   "metadata": {},
   "source": [
    "Likelihood ratio test\n",
    "Compare with the nested logit model"
   ]
  },
  {
   "cell_type": "code",
   "execution_count": null,
   "id": "8d05acf3",
   "metadata": {},
   "outputs": [],
   "source": [
    "try:\n",
    "    nested_results = res.bioResults(pickleFile='MEV_telephone_nested.pickle')\n",
    "except BiogemeError:\n",
    "    print('To perform the test, run first the script MEV_telephone_nested.py')\n",
    "\n",
    "ll_nested = nested_results.data.logLike\n",
    "aic_nested = nested_results.data.akaike\n",
    "ll_cross_var = results.data.logLike\n",
    "aic_cross_var = results.data.akaike\n",
    "\n",
    "print(\n",
    "    f'LL nested:  {ll_nested:.3f}  '\n",
    "    f'AIC: {aic_nested:.3f}  '\n",
    "    f'Parameters: {nested_results.data.nparam}'\n",
    ")\n",
    "print(\n",
    "    f'LL CNL (var): {ll_cross_var:.3f}  '\n",
    "    f'AIC: {aic_cross_var:.3f}  '\n",
    "    f'Parameters: {results.data.nparam}'\n",
    ")\n",
    "\n",
    "lr_test = results.likelihood_ratio_test(nested_results)\n",
    "print(f'Likelihood ratio: {lr_test.statistic:.3f}')\n",
    "print(f'Test threshold: {lr_test.threshold:.3f}')\n",
    "print(f'Test diagnostic: {lr_test.message}')"
   ]
  }
 ],
 "metadata": {
  "jupytext": {
   "cell_metadata_filter": "-all",
   "main_language": "python",
   "notebook_metadata_filter": "-all"
  },
  "kernelspec": {
   "display_name": "Python 3 (ipykernel)",
   "language": "python",
   "name": "python3"
  },
  "language_info": {
   "codemirror_mode": {
    "name": "ipython",
    "version": 3
   },
   "file_extension": ".py",
   "mimetype": "text/x-python",
   "name": "python",
   "nbconvert_exporter": "python",
   "pygments_lexer": "ipython3",
   "version": "3.11.5"
  }
 },
 "nbformat": 4,
 "nbformat_minor": 5
}
