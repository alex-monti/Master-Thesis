{
 "cells": [
  {
   "cell_type": "code",
   "execution_count": 1,
   "id": "13ad576a",
   "metadata": {},
   "outputs": [
    {
     "data": {
      "text/plain": [
       "':file: MEV_telephone_nested.py\\n\\nVersion for Biogeme 3.2.13\\n\\n:author: Michel Bierlaire\\n:date: Fri Apr 28 10:20:52 2023\\n\\n'"
      ]
     },
     "execution_count": 1,
     "metadata": {},
     "output_type": "execute_result"
    }
   ],
   "source": [
    "\"\"\":file: MEV_telephone_nested.py\n",
    "\n",
    "Version for Biogeme 3.2.13\n",
    "\n",
    ":author: Michel Bierlaire\n",
    ":date: Fri Apr 28 10:20:52 2023\n",
    "\n",
    "\"\"\""
   ]
  },
  {
   "cell_type": "code",
   "execution_count": 2,
   "id": "7f54ed40",
   "metadata": {},
   "outputs": [],
   "source": [
    "import biogeme.biogeme as bio\n",
    "from biogeme.expressions import Beta\n",
    "from biogeme.models import loglogit, lognested\n",
    "from biogeme.nests import OneNestForNestedLogit, NestsForNestedLogit"
   ]
  },
  {
   "cell_type": "code",
   "execution_count": 3,
   "id": "d73ddf2b",
   "metadata": {
    "lines_to_next_cell": 2
   },
   "outputs": [],
   "source": [
    "from telephone_data import (\n",
    "    database,\n",
    "    choice,\n",
    "    avail1,\n",
    "    avail2,\n",
    "    avail3,\n",
    "    avail4,\n",
    "    avail5,\n",
    "    logcostBM,\n",
    "    logcostSM,\n",
    "    logcostLF,\n",
    "    logcostEF,\n",
    "    logcostMF,\n",
    ")"
   ]
  },
  {
   "cell_type": "markdown",
   "id": "5c955059",
   "metadata": {},
   "source": [
    "Parameters to be estimated\n",
    "Arguments:\n",
    "  1  Name for report. Typically, the same as the variable\n",
    "  2  Starting value\n",
    "  3  Lower bound\n",
    "  4  Upper bound\n",
    "  5  0: estimate the parameter, 1: keep it fixed"
   ]
  },
  {
   "cell_type": "code",
   "execution_count": 4,
   "id": "fce04a97",
   "metadata": {},
   "outputs": [],
   "source": [
    "ASC_BM = Beta('ASC_BM', 0, None, None, 0)\n",
    "ASC_EF = Beta('ASC_EF', 0, None, None, 0)\n",
    "ASC_LF = Beta('ASC_LF', 0, None, None, 0)\n",
    "ASC_MF = Beta('ASC_MF', 0, None, None, 0)\n",
    "B_COST = Beta('B_COST', 0, None, None, 0)"
   ]
  },
  {
   "cell_type": "markdown",
   "id": "53b631e5",
   "metadata": {},
   "source": [
    "Nest parameters"
   ]
  },
  {
   "cell_type": "code",
   "execution_count": 5,
   "id": "e1b2703b",
   "metadata": {},
   "outputs": [],
   "source": [
    "N_FLAT = Beta('N_FLAT', 1, 1, None, 0)\n",
    "N_MEAS = Beta('N_MEAS', 1, 1, None, 0)"
   ]
  },
  {
   "cell_type": "markdown",
   "id": "780afebd",
   "metadata": {},
   "source": [
    "Utilities"
   ]
  },
  {
   "cell_type": "code",
   "execution_count": 6,
   "id": "d7a4cc8c",
   "metadata": {},
   "outputs": [],
   "source": [
    "V_BM = ASC_BM + B_COST * logcostBM\n",
    "V_SM = B_COST * logcostSM\n",
    "V_LF = ASC_LF + B_COST * logcostLF\n",
    "V_EF = ASC_EF + B_COST * logcostEF\n",
    "V_MF = ASC_MF + B_COST * logcostMF"
   ]
  },
  {
   "cell_type": "code",
   "execution_count": 7,
   "id": "715a0042",
   "metadata": {},
   "outputs": [],
   "source": [
    "V = {1: V_BM, 2: V_SM, 3: V_LF, 4: V_EF, 5: V_MF}\n",
    "avail = {1: avail1, 2: avail2, 3: avail3, 4: avail4, 5: avail5}"
   ]
  },
  {
   "cell_type": "markdown",
   "id": "407c4554",
   "metadata": {},
   "source": [
    "Definitions of nests"
   ]
  },
  {
   "cell_type": "code",
   "execution_count": 8,
   "id": "9af7b75e",
   "metadata": {},
   "outputs": [],
   "source": [
    "N_MEAS = OneNestForNestedLogit(\n",
    "    nest_param=N_MEAS, list_of_alternatives=[1, 2], name='measured'\n",
    ")\n",
    "N_FLAT = OneNestForNestedLogit(\n",
    "    nest_param=N_FLAT, list_of_alternatives=[3, 4, 5], name='flat'\n",
    ")"
   ]
  },
  {
   "cell_type": "code",
   "execution_count": 9,
   "id": "e08c50e3",
   "metadata": {
    "lines_to_next_cell": 2
   },
   "outputs": [],
   "source": [
    "nests = NestsForNestedLogit(choice_set=list(V), tuple_of_nests=(N_FLAT, N_MEAS))"
   ]
  },
  {
   "cell_type": "markdown",
   "id": "37b84ae7",
   "metadata": {},
   "source": [
    "Nested logit"
   ]
  },
  {
   "cell_type": "code",
   "execution_count": 10,
   "id": "25e4251a",
   "metadata": {},
   "outputs": [
    {
     "name": "stderr",
     "output_type": "stream",
     "text": [
      "File biogeme.toml has been created\n"
     ]
    }
   ],
   "source": [
    "logprob = lognested(V, avail, nests, choice)\n",
    "the_biogeme = bio.BIOGEME(database, logprob)\n",
    "the_biogeme.modelName = 'MEV_telephone_nested'\n",
    "the_biogeme.calculateNullLoglikelihood(avail)\n",
    "results = the_biogeme.estimate()"
   ]
  },
  {
   "cell_type": "markdown",
   "id": "040fe8d1",
   "metadata": {},
   "source": [
    "Get the results in a pandas table"
   ]
  },
  {
   "cell_type": "code",
   "execution_count": 11,
   "id": "1d06dbf4",
   "metadata": {},
   "outputs": [
    {
     "name": "stdout",
     "output_type": "stream",
     "text": [
      "           Value  Rob. Std err  Rob. t-test  Rob. p-value\n",
      "ASC_BM -0.378247      0.117381    -3.222383  1.271290e-03\n",
      "ASC_EF  0.847298      0.390637     2.169017  3.008141e-02\n",
      "ASC_LF  0.893448      0.158363     5.641790  1.682917e-08\n",
      "ASC_MF  1.405505      0.238370     5.896322  3.716932e-09\n",
      "B_COST -1.490028      0.243304    -6.124148  9.117034e-10\n",
      "N_FLAT  2.292431      0.763572     3.002245  2.679964e-03\n",
      "N_MEAS  2.062706      0.572857     3.600737  3.173170e-04\n"
     ]
    }
   ],
   "source": [
    "pandasResults = results.getEstimatedParameters()\n",
    "print(pandasResults)"
   ]
  },
  {
   "cell_type": "code",
   "execution_count": 12,
   "id": "d976643f",
   "metadata": {},
   "outputs": [
    {
     "data": {
      "text/html": [
       "<div>\n",
       "<style scoped>\n",
       "    .dataframe tbody tr th:only-of-type {\n",
       "        vertical-align: middle;\n",
       "    }\n",
       "\n",
       "    .dataframe tbody tr th {\n",
       "        vertical-align: top;\n",
       "    }\n",
       "\n",
       "    .dataframe thead th {\n",
       "        text-align: right;\n",
       "    }\n",
       "</style>\n",
       "<table border=\"1\" class=\"dataframe\">\n",
       "  <thead>\n",
       "    <tr style=\"text-align: right;\">\n",
       "      <th></th>\n",
       "      <th>Value</th>\n",
       "      <th>Rob. Std err</th>\n",
       "      <th>Rob. t-test</th>\n",
       "      <th>Rob. p-value</th>\n",
       "    </tr>\n",
       "  </thead>\n",
       "  <tbody>\n",
       "    <tr>\n",
       "      <th>ASC_BM</th>\n",
       "      <td>-0.378247</td>\n",
       "      <td>0.117381</td>\n",
       "      <td>-3.222383</td>\n",
       "      <td>1.271290e-03</td>\n",
       "    </tr>\n",
       "    <tr>\n",
       "      <th>ASC_EF</th>\n",
       "      <td>0.847298</td>\n",
       "      <td>0.390637</td>\n",
       "      <td>2.169017</td>\n",
       "      <td>3.008141e-02</td>\n",
       "    </tr>\n",
       "    <tr>\n",
       "      <th>ASC_LF</th>\n",
       "      <td>0.893448</td>\n",
       "      <td>0.158363</td>\n",
       "      <td>5.641790</td>\n",
       "      <td>1.682917e-08</td>\n",
       "    </tr>\n",
       "    <tr>\n",
       "      <th>ASC_MF</th>\n",
       "      <td>1.405505</td>\n",
       "      <td>0.238370</td>\n",
       "      <td>5.896322</td>\n",
       "      <td>3.716932e-09</td>\n",
       "    </tr>\n",
       "    <tr>\n",
       "      <th>B_COST</th>\n",
       "      <td>-1.490028</td>\n",
       "      <td>0.243304</td>\n",
       "      <td>-6.124148</td>\n",
       "      <td>9.117034e-10</td>\n",
       "    </tr>\n",
       "    <tr>\n",
       "      <th>N_FLAT</th>\n",
       "      <td>2.292431</td>\n",
       "      <td>0.763572</td>\n",
       "      <td>3.002245</td>\n",
       "      <td>2.679964e-03</td>\n",
       "    </tr>\n",
       "    <tr>\n",
       "      <th>N_MEAS</th>\n",
       "      <td>2.062706</td>\n",
       "      <td>0.572857</td>\n",
       "      <td>3.600737</td>\n",
       "      <td>3.173170e-04</td>\n",
       "    </tr>\n",
       "  </tbody>\n",
       "</table>\n",
       "</div>"
      ],
      "text/plain": [
       "           Value  Rob. Std err  Rob. t-test  Rob. p-value\n",
       "ASC_BM -0.378247      0.117381    -3.222383  1.271290e-03\n",
       "ASC_EF  0.847298      0.390637     2.169017  3.008141e-02\n",
       "ASC_LF  0.893448      0.158363     5.641790  1.682917e-08\n",
       "ASC_MF  1.405505      0.238370     5.896322  3.716932e-09\n",
       "B_COST -1.490028      0.243304    -6.124148  9.117034e-10\n",
       "N_FLAT  2.292431      0.763572     3.002245  2.679964e-03\n",
       "N_MEAS  2.062706      0.572857     3.600737  3.173170e-04"
      ]
     },
     "execution_count": 12,
     "metadata": {},
     "output_type": "execute_result"
    }
   ],
   "source": [
    "pandasResults"
   ]
  },
  {
   "cell_type": "code",
   "execution_count": 13,
   "id": "fba548df",
   "metadata": {
    "lines_to_next_cell": 2
   },
   "outputs": [
    {
     "name": "stdout",
     "output_type": "stream",
     "text": [
      "Nbr of observations: 434\n",
      "LL(0) =    -560.250\n",
      "LL(beta) = -473.219\n",
      "AIC = 960.4\n",
      "Output file: MEV_telephone_nested.html\n"
     ]
    }
   ],
   "source": [
    "print(f'Nbr of observations: {database.getNumberOfObservations()}')\n",
    "print(f'LL(0) =    {results.data.initLogLike:.3f}')\n",
    "print(f'LL(beta) = {results.data.logLike:.3f}')\n",
    "print(f'AIC = {results.data.akaike:.1f}')\n",
    "print(f'Output file: {results.data.htmlFileName}')"
   ]
  },
  {
   "cell_type": "markdown",
   "id": "57559179",
   "metadata": {},
   "source": [
    "Compare with the logit model"
   ]
  },
  {
   "cell_type": "code",
   "execution_count": 14,
   "id": "5bb5a424",
   "metadata": {},
   "outputs": [],
   "source": [
    "logprob_logit = loglogit(V, avail, choice)\n",
    "biogeme_logit = bio.BIOGEME(database, logprob_logit)\n",
    "biogeme_logit.modelName = 'MEV_telephone_logit'\n",
    "biogeme_logit.calculateNullLoglikelihood(avail)\n",
    "results_logit = biogeme_logit.estimate()"
   ]
  },
  {
   "cell_type": "code",
   "execution_count": 15,
   "id": "88f7ebca",
   "metadata": {},
   "outputs": [],
   "source": [
    "ll_logit = results_logit.data.logLike\n",
    "aic_logit = results_logit.data.akaike\n",
    "ll_nested = results.data.logLike\n",
    "aic_nested = results.data.akaike"
   ]
  },
  {
   "cell_type": "code",
   "execution_count": 16,
   "id": "505a0840",
   "metadata": {},
   "outputs": [
    {
     "name": "stdout",
     "output_type": "stream",
     "text": [
      "LL logit:  -477.557  AIC: 965.114  Parameters: 5\n",
      "LL nested: -473.219  AIC: 960.439  Parameters: 7\n"
     ]
    }
   ],
   "source": [
    "print(\n",
    "    f'LL logit:  {ll_logit:.3f}  '\n",
    "    f'AIC: {aic_logit:.3f}  '\n",
    "    f'Parameters: {results_logit.data.nparam}'\n",
    ")\n",
    "print(\n",
    "    f'LL nested: {ll_nested:.3f}  '\n",
    "    f'AIC: {aic_nested:.3f}  '\n",
    "    f'Parameters: {results.data.nparam}'\n",
    ")"
   ]
  },
  {
   "cell_type": "code",
   "execution_count": 17,
   "id": "541c52d4",
   "metadata": {},
   "outputs": [
    {
     "name": "stdout",
     "output_type": "stream",
     "text": [
      "Likelihood ratio: 8.675\n",
      "Test threshold: 5.991\n",
      "Test diagnostic: H0 can be rejected at level 5.0%\n"
     ]
    }
   ],
   "source": [
    "lr_test = results.likelihood_ratio_test(results_logit)\n",
    "print(f'Likelihood ratio: {lr_test.statistic:.3f}')\n",
    "print(f'Test threshold: {lr_test.threshold:.3f}')\n",
    "print(f'Test diagnostic: {lr_test.message}')"
   ]
  }
 ],
 "metadata": {
  "jupytext": {
   "cell_metadata_filter": "-all",
   "main_language": "python",
   "notebook_metadata_filter": "-all"
  },
  "kernelspec": {
   "display_name": "Python 3",
   "language": "python",
   "name": "python3"
  },
  "language_info": {
   "codemirror_mode": {
    "name": "ipython",
    "version": 3
   },
   "file_extension": ".py",
   "mimetype": "text/x-python",
   "name": "python",
   "nbconvert_exporter": "python",
   "pygments_lexer": "ipython3",
   "version": "3.10.7"
  }
 },
 "nbformat": 4,
 "nbformat_minor": 5
}
