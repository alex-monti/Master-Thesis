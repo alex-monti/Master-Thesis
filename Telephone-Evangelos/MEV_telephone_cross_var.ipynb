{
 "cells": [
  {
   "cell_type": "code",
   "execution_count": 1,
   "id": "fa1fce1c",
   "metadata": {},
   "outputs": [
    {
     "data": {
      "text/plain": [
       "':file: MEV_telephone_cross_var.py\\n\\nVersion for Biogeme 3.2.13\\n\\n:author: Michel Bierlaire\\n:date: Fri Apr 28 10:19:38 2023\\n\\n'"
      ]
     },
     "execution_count": 1,
     "metadata": {},
     "output_type": "execute_result"
    }
   ],
   "source": [
    "\"\"\":file: MEV_telephone_cross_var.py\n",
    "\n",
    "Version for Biogeme 3.2.13\n",
    "\n",
    ":author: Michel Bierlaire\n",
    ":date: Fri Apr 28 10:19:38 2023\n",
    "\n",
    "\"\"\""
   ]
  },
  {
   "cell_type": "code",
   "execution_count": 2,
   "id": "d18a973f",
   "metadata": {},
   "outputs": [],
   "source": [
    "import biogeme.results as res\n",
    "from biogeme.exceptions import BiogemeError\n",
    "import biogeme.biogeme as bio\n",
    "from biogeme.expressions import Beta\n",
    "from biogeme.models import logcnl\n",
    "from biogeme.nests import OneNestForCrossNestedLogit, NestsForCrossNestedLogit"
   ]
  },
  {
   "cell_type": "code",
   "execution_count": 3,
   "id": "48d0c2e3",
   "metadata": {},
   "outputs": [],
   "source": [
    "from telephone_data import (\n",
    "    database,\n",
    "    choice,\n",
    "    avail1,\n",
    "    avail2,\n",
    "    avail3,\n",
    "    avail4,\n",
    "    avail5,\n",
    "    logcostBM,\n",
    "    logcostSM,\n",
    "    logcostLF,\n",
    "    logcostEF,\n",
    "    logcostMF,\n",
    ")"
   ]
  },
  {
   "cell_type": "markdown",
   "id": "15ad1ab0",
   "metadata": {},
   "source": [
    "Parameters to be estimated\n",
    "Arguments:\n",
    "  1  Name for report. Typically, the same as the variable\n",
    "  2  Starting value\n",
    "  3  Lower bound\n",
    "  4  Upper bound\n",
    "  5  0: estimate the parameter, 1: keep it fixed"
   ]
  },
  {
   "cell_type": "code",
   "execution_count": 4,
   "id": "22b2335a",
   "metadata": {},
   "outputs": [],
   "source": [
    "ASC_BM = Beta('ASC_BM', 0, None, None, 0)\n",
    "ASC_EF = Beta('ASC_EF', 0, None, None, 0)\n",
    "ASC_LF = Beta('ASC_LF', 0, None, None, 0)\n",
    "ASC_MF = Beta('ASC_MF', 0, None, None, 0)\n",
    "B_COST = Beta('B_COST', 0, None, None, 0)"
   ]
  },
  {
   "cell_type": "markdown",
   "id": "2a447614",
   "metadata": {},
   "source": [
    "Nest parameters"
   ]
  },
  {
   "cell_type": "code",
   "execution_count": 5,
   "id": "7ebeb4fd",
   "metadata": {},
   "outputs": [],
   "source": [
    "N_FLAT = Beta('N_FLAT', 1, None, None, 0)\n",
    "N_MEAS = Beta('N_MEAS', 1, None, None, 0)"
   ]
  },
  {
   "cell_type": "code",
   "execution_count": 6,
   "id": "0ca01668",
   "metadata": {},
   "outputs": [],
   "source": [
    "a_FLAT_LF = Beta('a_FLAT_LF', 0.5, 0, 1, 0)\n",
    "a_MEAS_LF = 1 - a_FLAT_LF"
   ]
  },
  {
   "cell_type": "markdown",
   "id": "82733886",
   "metadata": {},
   "source": [
    "Utilities"
   ]
  },
  {
   "cell_type": "code",
   "execution_count": 7,
   "id": "de552698",
   "metadata": {},
   "outputs": [],
   "source": [
    "V_BM = ASC_BM + B_COST * logcostBM\n",
    "V_SM = B_COST * logcostSM\n",
    "V_LF = ASC_LF + B_COST * logcostLF\n",
    "V_EF = ASC_EF + B_COST * logcostEF\n",
    "V_MF = ASC_MF + B_COST * logcostMF"
   ]
  },
  {
   "cell_type": "code",
   "execution_count": 8,
   "id": "12bfaa1b",
   "metadata": {},
   "outputs": [],
   "source": [
    "V = {1: V_BM, 2: V_SM, 3: V_LF, 4: V_EF, 5: V_MF}\n",
    "avail = {1: avail1, 2: avail2, 3: avail3, 4: avail4, 5: avail5}"
   ]
  },
  {
   "cell_type": "markdown",
   "id": "98d72ebd",
   "metadata": {},
   "source": [
    "Definitions of nests"
   ]
  },
  {
   "cell_type": "code",
   "execution_count": 9,
   "id": "94e796fd",
   "metadata": {},
   "outputs": [],
   "source": [
    "alpha_N_FLAT = {1: 0, 2: 0, 3: a_FLAT_LF, 4: 1, 5: 1}\n",
    "alpha_N_MEAS = {1: 1, 2: 1, 3: a_MEAS_LF, 4: 0, 5: 0}"
   ]
  },
  {
   "cell_type": "code",
   "execution_count": 10,
   "id": "c7557f08",
   "metadata": {},
   "outputs": [],
   "source": [
    "nest_N_FLAT = OneNestForCrossNestedLogit(\n",
    "    nest_param=N_FLAT, dict_of_alpha=alpha_N_FLAT, name='flat'\n",
    ")\n",
    "nest_N_MEAS = OneNestForCrossNestedLogit(\n",
    "    nest_param=N_MEAS, dict_of_alpha=alpha_N_MEAS, name='measured'\n",
    ")"
   ]
  },
  {
   "cell_type": "code",
   "execution_count": 11,
   "id": "1909076f",
   "metadata": {},
   "outputs": [],
   "source": [
    "nests = NestsForCrossNestedLogit(\n",
    "    choice_set=list(V), tuple_of_nests=(nest_N_FLAT, nest_N_MEAS)\n",
    ")"
   ]
  },
  {
   "cell_type": "markdown",
   "id": "1da968f7",
   "metadata": {},
   "source": [
    "CNL with fixed alphas"
   ]
  },
  {
   "cell_type": "code",
   "execution_count": 12,
   "id": "dbf2f70c",
   "metadata": {},
   "outputs": [],
   "source": [
    "logprob = logcnl(V, avail, nests, choice)\n",
    "the_biogeme = bio.BIOGEME(database, logprob)\n",
    "the_biogeme.modelName = 'MEV_telephone_cross_var'\n",
    "the_biogeme.calculateNullLoglikelihood(avail)\n",
    "results = the_biogeme.estimate()"
   ]
  },
  {
   "cell_type": "markdown",
   "id": "e2a64a6b",
   "metadata": {},
   "source": [
    "Get the results in a pandas table"
   ]
  },
  {
   "cell_type": "code",
   "execution_count": 13,
   "id": "40ad282f",
   "metadata": {},
   "outputs": [
    {
     "name": "stdout",
     "output_type": "stream",
     "text": [
      "              Value  Active bound  Rob. Std err   Rob. t-test  Rob. p-value\n",
      "ASC_BM    -0.567638           0.0  1.656976e-01 -3.425748e+00  6.131083e-04\n",
      "ASC_EF    -1.625943           0.0  3.293393e+00 -4.936984e-01  6.215192e-01\n",
      "ASC_LF     0.570260           0.0  3.504795e-01  1.627085e+00  1.037190e-01\n",
      "ASC_MF     0.214317           0.0  1.442975e+00  1.485242e-01  8.819291e-01\n",
      "B_COST    -2.143455           0.0  2.818413e-01 -7.605183e+00  2.842171e-14\n",
      "N_FLAT     0.338454           0.0  1.745268e-01  1.939270e+00  5.246853e-02\n",
      "N_MEAS     1.414144           0.0  3.707028e-01  3.814766e+00  1.363119e-04\n",
      "a_FLAT_LF  1.000000           1.0  1.113720e-10  8.978921e+09  0.000000e+00\n"
     ]
    }
   ],
   "source": [
    "pandasResults = results.getEstimatedParameters()\n",
    "print(pandasResults)"
   ]
  },
  {
   "cell_type": "code",
   "execution_count": 14,
   "id": "019a4794",
   "metadata": {},
   "outputs": [
    {
     "data": {
      "text/html": [
       "<div>\n",
       "<style scoped>\n",
       "    .dataframe tbody tr th:only-of-type {\n",
       "        vertical-align: middle;\n",
       "    }\n",
       "\n",
       "    .dataframe tbody tr th {\n",
       "        vertical-align: top;\n",
       "    }\n",
       "\n",
       "    .dataframe thead th {\n",
       "        text-align: right;\n",
       "    }\n",
       "</style>\n",
       "<table border=\"1\" class=\"dataframe\">\n",
       "  <thead>\n",
       "    <tr style=\"text-align: right;\">\n",
       "      <th></th>\n",
       "      <th>Value</th>\n",
       "      <th>Active bound</th>\n",
       "      <th>Rob. Std err</th>\n",
       "      <th>Rob. t-test</th>\n",
       "      <th>Rob. p-value</th>\n",
       "    </tr>\n",
       "  </thead>\n",
       "  <tbody>\n",
       "    <tr>\n",
       "      <th>ASC_BM</th>\n",
       "      <td>-0.567638</td>\n",
       "      <td>0.0</td>\n",
       "      <td>1.656976e-01</td>\n",
       "      <td>-3.425748e+00</td>\n",
       "      <td>6.131083e-04</td>\n",
       "    </tr>\n",
       "    <tr>\n",
       "      <th>ASC_EF</th>\n",
       "      <td>-1.625943</td>\n",
       "      <td>0.0</td>\n",
       "      <td>3.293393e+00</td>\n",
       "      <td>-4.936984e-01</td>\n",
       "      <td>6.215192e-01</td>\n",
       "    </tr>\n",
       "    <tr>\n",
       "      <th>ASC_LF</th>\n",
       "      <td>0.570260</td>\n",
       "      <td>0.0</td>\n",
       "      <td>3.504795e-01</td>\n",
       "      <td>1.627085e+00</td>\n",
       "      <td>1.037190e-01</td>\n",
       "    </tr>\n",
       "    <tr>\n",
       "      <th>ASC_MF</th>\n",
       "      <td>0.214317</td>\n",
       "      <td>0.0</td>\n",
       "      <td>1.442975e+00</td>\n",
       "      <td>1.485242e-01</td>\n",
       "      <td>8.819291e-01</td>\n",
       "    </tr>\n",
       "    <tr>\n",
       "      <th>B_COST</th>\n",
       "      <td>-2.143455</td>\n",
       "      <td>0.0</td>\n",
       "      <td>2.818413e-01</td>\n",
       "      <td>-7.605183e+00</td>\n",
       "      <td>2.842171e-14</td>\n",
       "    </tr>\n",
       "    <tr>\n",
       "      <th>N_FLAT</th>\n",
       "      <td>0.338454</td>\n",
       "      <td>0.0</td>\n",
       "      <td>1.745268e-01</td>\n",
       "      <td>1.939270e+00</td>\n",
       "      <td>5.246853e-02</td>\n",
       "    </tr>\n",
       "    <tr>\n",
       "      <th>N_MEAS</th>\n",
       "      <td>1.414144</td>\n",
       "      <td>0.0</td>\n",
       "      <td>3.707028e-01</td>\n",
       "      <td>3.814766e+00</td>\n",
       "      <td>1.363119e-04</td>\n",
       "    </tr>\n",
       "    <tr>\n",
       "      <th>a_FLAT_LF</th>\n",
       "      <td>1.000000</td>\n",
       "      <td>1.0</td>\n",
       "      <td>1.113720e-10</td>\n",
       "      <td>8.978921e+09</td>\n",
       "      <td>0.000000e+00</td>\n",
       "    </tr>\n",
       "  </tbody>\n",
       "</table>\n",
       "</div>"
      ],
      "text/plain": [
       "              Value  Active bound  Rob. Std err   Rob. t-test  Rob. p-value\n",
       "ASC_BM    -0.567638           0.0  1.656976e-01 -3.425748e+00  6.131083e-04\n",
       "ASC_EF    -1.625943           0.0  3.293393e+00 -4.936984e-01  6.215192e-01\n",
       "ASC_LF     0.570260           0.0  3.504795e-01  1.627085e+00  1.037190e-01\n",
       "ASC_MF     0.214317           0.0  1.442975e+00  1.485242e-01  8.819291e-01\n",
       "B_COST    -2.143455           0.0  2.818413e-01 -7.605183e+00  2.842171e-14\n",
       "N_FLAT     0.338454           0.0  1.745268e-01  1.939270e+00  5.246853e-02\n",
       "N_MEAS     1.414144           0.0  3.707028e-01  3.814766e+00  1.363119e-04\n",
       "a_FLAT_LF  1.000000           1.0  1.113720e-10  8.978921e+09  0.000000e+00"
      ]
     },
     "execution_count": 14,
     "metadata": {},
     "output_type": "execute_result"
    }
   ],
   "source": [
    "pandasResults"
   ]
  },
  {
   "cell_type": "code",
   "execution_count": 15,
   "id": "ec5e83b5",
   "metadata": {},
   "outputs": [
    {
     "name": "stdout",
     "output_type": "stream",
     "text": [
      "Nbr of observations: 434\n",
      "LL(0) =    -477.086\n",
      "LL(beta) = -477.086\n",
      "AIC = 970.2\n",
      "Output file: MEV_telephone_cross_var~00.html\n"
     ]
    }
   ],
   "source": [
    "print(f'Nbr of observations: {database.getNumberOfObservations()}')\n",
    "print(f'LL(0) =    {results.data.initLogLike:.3f}')\n",
    "print(f'LL(beta) = {results.data.logLike:.3f}')\n",
    "print(f'AIC = {results.data.akaike:.1f}')\n",
    "print(f'Output file: {results.data.htmlFileName}')"
   ]
  },
  {
   "cell_type": "markdown",
   "id": "06af5800",
   "metadata": {},
   "source": [
    "Likelihood ratio test\n",
    "Compare with the nested logit model"
   ]
  },
  {
   "cell_type": "code",
   "execution_count": 16,
   "id": "8d05acf3",
   "metadata": {},
   "outputs": [
    {
     "name": "stdout",
     "output_type": "stream",
     "text": [
      "LL nested:  -473.219  AIC: 960.439  Parameters: 7\n",
      "LL CNL (var): -477.086  AIC: 970.172  Parameters: 8\n"
     ]
    },
    {
     "ename": "BiogemeError",
     "evalue": "The unrestricted model (-477.0858410978324, 8) has a lower log likelihood than the restricted one (-473.21933315985905, 7)",
     "output_type": "error",
     "traceback": [
      "\u001b[0;31m---------------------------------------------------------------------------\u001b[0m",
      "\u001b[0;31mBiogemeError\u001b[0m                              Traceback (most recent call last)",
      "Cell \u001b[0;32mIn[16], line 22\u001b[0m\n\u001b[1;32m     11\u001b[0m \u001b[38;5;28mprint\u001b[39m(\n\u001b[1;32m     12\u001b[0m     \u001b[38;5;124mf\u001b[39m\u001b[38;5;124m'\u001b[39m\u001b[38;5;124mLL nested:  \u001b[39m\u001b[38;5;132;01m{\u001b[39;00mll_nested\u001b[38;5;132;01m:\u001b[39;00m\u001b[38;5;124m.3f\u001b[39m\u001b[38;5;132;01m}\u001b[39;00m\u001b[38;5;124m  \u001b[39m\u001b[38;5;124m'\u001b[39m\n\u001b[1;32m     13\u001b[0m     \u001b[38;5;124mf\u001b[39m\u001b[38;5;124m'\u001b[39m\u001b[38;5;124mAIC: \u001b[39m\u001b[38;5;132;01m{\u001b[39;00maic_nested\u001b[38;5;132;01m:\u001b[39;00m\u001b[38;5;124m.3f\u001b[39m\u001b[38;5;132;01m}\u001b[39;00m\u001b[38;5;124m  \u001b[39m\u001b[38;5;124m'\u001b[39m\n\u001b[1;32m     14\u001b[0m     \u001b[38;5;124mf\u001b[39m\u001b[38;5;124m'\u001b[39m\u001b[38;5;124mParameters: \u001b[39m\u001b[38;5;132;01m{\u001b[39;00mnested_results\u001b[38;5;241m.\u001b[39mdata\u001b[38;5;241m.\u001b[39mnparam\u001b[38;5;132;01m}\u001b[39;00m\u001b[38;5;124m'\u001b[39m\n\u001b[1;32m     15\u001b[0m )\n\u001b[1;32m     16\u001b[0m \u001b[38;5;28mprint\u001b[39m(\n\u001b[1;32m     17\u001b[0m     \u001b[38;5;124mf\u001b[39m\u001b[38;5;124m'\u001b[39m\u001b[38;5;124mLL CNL (var): \u001b[39m\u001b[38;5;132;01m{\u001b[39;00mll_cross_var\u001b[38;5;132;01m:\u001b[39;00m\u001b[38;5;124m.3f\u001b[39m\u001b[38;5;132;01m}\u001b[39;00m\u001b[38;5;124m  \u001b[39m\u001b[38;5;124m'\u001b[39m\n\u001b[1;32m     18\u001b[0m     \u001b[38;5;124mf\u001b[39m\u001b[38;5;124m'\u001b[39m\u001b[38;5;124mAIC: \u001b[39m\u001b[38;5;132;01m{\u001b[39;00maic_cross_var\u001b[38;5;132;01m:\u001b[39;00m\u001b[38;5;124m.3f\u001b[39m\u001b[38;5;132;01m}\u001b[39;00m\u001b[38;5;124m  \u001b[39m\u001b[38;5;124m'\u001b[39m\n\u001b[1;32m     19\u001b[0m     \u001b[38;5;124mf\u001b[39m\u001b[38;5;124m'\u001b[39m\u001b[38;5;124mParameters: \u001b[39m\u001b[38;5;132;01m{\u001b[39;00mresults\u001b[38;5;241m.\u001b[39mdata\u001b[38;5;241m.\u001b[39mnparam\u001b[38;5;132;01m}\u001b[39;00m\u001b[38;5;124m'\u001b[39m\n\u001b[1;32m     20\u001b[0m )\n\u001b[0;32m---> 22\u001b[0m lr_test \u001b[38;5;241m=\u001b[39m \u001b[43mresults\u001b[49m\u001b[38;5;241;43m.\u001b[39;49m\u001b[43mlikelihood_ratio_test\u001b[49m\u001b[43m(\u001b[49m\u001b[43mnested_results\u001b[49m\u001b[43m)\u001b[49m\n\u001b[1;32m     23\u001b[0m \u001b[38;5;28mprint\u001b[39m(\u001b[38;5;124mf\u001b[39m\u001b[38;5;124m'\u001b[39m\u001b[38;5;124mLikelihood ratio: \u001b[39m\u001b[38;5;132;01m{\u001b[39;00mlr_test\u001b[38;5;241m.\u001b[39mstatistic\u001b[38;5;132;01m:\u001b[39;00m\u001b[38;5;124m.3f\u001b[39m\u001b[38;5;132;01m}\u001b[39;00m\u001b[38;5;124m'\u001b[39m)\n\u001b[1;32m     24\u001b[0m \u001b[38;5;28mprint\u001b[39m(\u001b[38;5;124mf\u001b[39m\u001b[38;5;124m'\u001b[39m\u001b[38;5;124mTest threshold: \u001b[39m\u001b[38;5;132;01m{\u001b[39;00mlr_test\u001b[38;5;241m.\u001b[39mthreshold\u001b[38;5;132;01m:\u001b[39;00m\u001b[38;5;124m.3f\u001b[39m\u001b[38;5;132;01m}\u001b[39;00m\u001b[38;5;124m'\u001b[39m)\n",
      "File \u001b[0;32m/Library/Frameworks/Python.framework/Versions/3.10/lib/python3.10/site-packages/biogeme/results.py:1563\u001b[0m, in \u001b[0;36mbioResults.likelihood_ratio_test\u001b[0;34m(self, other_model, significance_level)\u001b[0m\n\u001b[1;32m   1561\u001b[0m KR \u001b[38;5;241m=\u001b[39m \u001b[38;5;28mself\u001b[39m\u001b[38;5;241m.\u001b[39mdata\u001b[38;5;241m.\u001b[39mnparam\n\u001b[1;32m   1562\u001b[0m KU \u001b[38;5;241m=\u001b[39m other_model\u001b[38;5;241m.\u001b[39mdata\u001b[38;5;241m.\u001b[39mnparam\n\u001b[0;32m-> 1563\u001b[0m \u001b[38;5;28;01mreturn\u001b[39;00m \u001b[43mtools\u001b[49m\u001b[38;5;241;43m.\u001b[39;49m\u001b[43mlikelihood_ratio_test\u001b[49m\u001b[43m(\u001b[49m\u001b[43m(\u001b[49m\u001b[43mLU\u001b[49m\u001b[43m,\u001b[49m\u001b[43m \u001b[49m\u001b[43mKU\u001b[49m\u001b[43m)\u001b[49m\u001b[43m,\u001b[49m\u001b[43m \u001b[49m\u001b[43m(\u001b[49m\u001b[43mLR\u001b[49m\u001b[43m,\u001b[49m\u001b[43m \u001b[49m\u001b[43mKR\u001b[49m\u001b[43m)\u001b[49m\u001b[43m,\u001b[49m\u001b[43m \u001b[49m\u001b[43msignificance_level\u001b[49m\u001b[43m)\u001b[49m\n",
      "File \u001b[0;32m/Library/Frameworks/Python.framework/Versions/3.10/lib/python3.10/site-packages/biogeme/tools.py:291\u001b[0m, in \u001b[0;36mlikelihood_ratio_test\u001b[0;34m(model1, model2, significance_level)\u001b[0m\n\u001b[1;32m    289\u001b[0m \u001b[38;5;28;01mif\u001b[39;00m loglike_m1 \u001b[38;5;241m>\u001b[39m loglike_m2:\n\u001b[1;32m    290\u001b[0m     \u001b[38;5;28;01mif\u001b[39;00m df_m1 \u001b[38;5;241m<\u001b[39m df_m2:\n\u001b[0;32m--> 291\u001b[0m         \u001b[38;5;28;01mraise\u001b[39;00m excep\u001b[38;5;241m.\u001b[39mBiogemeError(\n\u001b[1;32m    292\u001b[0m             \u001b[38;5;124mf\u001b[39m\u001b[38;5;124m'\u001b[39m\u001b[38;5;124mThe unrestricted model \u001b[39m\u001b[38;5;132;01m{\u001b[39;00mmodel2\u001b[38;5;132;01m}\u001b[39;00m\u001b[38;5;124m has a \u001b[39m\u001b[38;5;124m'\u001b[39m\n\u001b[1;32m    293\u001b[0m             \u001b[38;5;124mf\u001b[39m\u001b[38;5;124m'\u001b[39m\u001b[38;5;124mlower log likelihood than the restricted one \u001b[39m\u001b[38;5;132;01m{\u001b[39;00mmodel1\u001b[38;5;132;01m}\u001b[39;00m\u001b[38;5;124m'\u001b[39m\n\u001b[1;32m    294\u001b[0m         )\n\u001b[1;32m    295\u001b[0m     loglike_ur \u001b[38;5;241m=\u001b[39m loglike_m1\n\u001b[1;32m    296\u001b[0m     loglike_r \u001b[38;5;241m=\u001b[39m loglike_m2\n",
      "\u001b[0;31mBiogemeError\u001b[0m: The unrestricted model (-477.0858410978324, 8) has a lower log likelihood than the restricted one (-473.21933315985905, 7)"
     ]
    }
   ],
   "source": [
    "try:\n",
    "    nested_results = res.bioResults(pickleFile='MEV_telephone_nested.pickle')\n",
    "except BiogemeError:\n",
    "    print('To perform the test, run first the script MEV_telephone_nested.py')\n",
    "\n",
    "ll_nested = nested_results.data.logLike\n",
    "aic_nested = nested_results.data.akaike\n",
    "ll_cross_var = results.data.logLike\n",
    "aic_cross_var = results.data.akaike\n",
    "\n",
    "print(\n",
    "    f'LL nested:  {ll_nested:.3f}  '\n",
    "    f'AIC: {aic_nested:.3f}  '\n",
    "    f'Parameters: {nested_results.data.nparam}'\n",
    ")\n",
    "print(\n",
    "    f'LL CNL (var): {ll_cross_var:.3f}  '\n",
    "    f'AIC: {aic_cross_var:.3f}  '\n",
    "    f'Parameters: {results.data.nparam}'\n",
    ")\n",
    "\n",
    "lr_test = results.likelihood_ratio_test(nested_results)\n",
    "print(f'Likelihood ratio: {lr_test.statistic:.3f}')\n",
    "print(f'Test threshold: {lr_test.threshold:.3f}')\n",
    "print(f'Test diagnostic: {lr_test.message}')"
   ]
  }
 ],
 "metadata": {
  "jupytext": {
   "cell_metadata_filter": "-all",
   "main_language": "python",
   "notebook_metadata_filter": "-all"
  },
  "kernelspec": {
   "display_name": "Python 3 (ipykernel)",
   "language": "python",
   "name": "python3"
  },
  "language_info": {
   "codemirror_mode": {
    "name": "ipython",
    "version": 3
   },
   "file_extension": ".py",
   "mimetype": "text/x-python",
   "name": "python",
   "nbconvert_exporter": "python",
   "pygments_lexer": "ipython3",
   "version": "3.10.7"
  }
 },
 "nbformat": 4,
 "nbformat_minor": 5
}
