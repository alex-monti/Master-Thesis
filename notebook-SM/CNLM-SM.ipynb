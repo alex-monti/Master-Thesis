{
 "cells": [
  {
   "cell_type": "code",
   "execution_count": 1,
   "metadata": {},
   "outputs": [],
   "source": [
    "import pandas as pd\n",
    "import numpy as np\n",
    "from functions_NLM import estimate_nested_logit"
   ]
  },
  {
   "cell_type": "code",
   "execution_count": 2,
   "metadata": {},
   "outputs": [],
   "source": [
    "# DATA INPUT\n",
    "datafilename = \"../data/swissmetro.dat\"\n",
    "\n",
    "# read data file\n",
    "data = pd.read_table(datafilename)"
   ]
  },
  {
   "cell_type": "code",
   "execution_count": 3,
   "metadata": {},
   "outputs": [],
   "source": [
    "# determine number of individuals in the data\n",
    "N = data['ID'].nunique()\n",
    "\n",
    "# DEFINE MODEL PARAMETERS\n",
    "beta = np.array([0, 0, 0, 0, 1, 1, 0])\n",
    "beta_names = [\"ASC_CAR\", \"ASC_SM\", \"BETA_TT\", \"BETA_TC\", \"lambda_CAR_TRAIN\", \"lambda_SM_TRAIN\", \"base_alpha_TRAIN_WITH_CAR\"]\n",
    "fixed_params = {}\n",
    "\n",
    "# DEFINE MODEL STRUCTURE AND LIKELIHOOD FUNCTION\n",
    "def log_likelihood_SM_CNLM(beta, data):\n",
    "    alpha_TRAIN_WITH_CAR = np.exp(beta[6]) / (1 + np.exp(beta[6]))\n",
    "    alpha_TRAIN_WITH_SM = 1 - alpha_TRAIN_WITH_CAR\n",
    "\n",
    "    # define utility functions\n",
    "    data['U_TRAIN'] = beta[2] * data['TRAIN_TT'] + beta[3] * (data['GA'] == 0) * data['TRAIN_CO']\n",
    "    data['U_SM'] = beta[1] + beta[2] * data['SM_TT'] + beta[3] * (data['GA'] == 0) * data['SM_CO']\n",
    "    data['U_CAR'] = beta[0] + beta[2] * data['CAR_TT'] + beta[3] * data['CAR_CO']\n",
    "\n",
    "    # combined utility terms inside nests\n",
    "    data['U_CAR_TRAIN'] = (alpha_TRAIN_WITH_CAR * data['TRAIN_AV'] * np.exp(data['U_TRAIN'])) ** (1 / beta[4]) + \\\n",
    "                          (1 * data['CAR_AV'] * np.exp(data['U_CAR'])) ** (1 / beta[4])\n",
    "    data['U_TRAIN_SM'] = (alpha_TRAIN_WITH_SM * data['TRAIN_AV'] * np.exp(data['U_TRAIN'])) ** (1 / beta[5]) + \\\n",
    "                         (1 * data['SM_AV'] * np.exp(data['U_SM'])) ** (1 / beta[5])\n",
    "\n",
    "    # Nest probabilities\n",
    "    data['P_nest_CAR_TRAIN'] = (data['U_CAR_TRAIN'] ** beta[4]) / \\\n",
    "                                (data['U_CAR_TRAIN'] ** beta[4] + data['U_TRAIN_SM'] ** beta[5])\n",
    "    data['P_nest_TRAIN_SM'] = 1 - data['P_nest_CAR_TRAIN']\n",
    "\n",
    "    # Within nest probabilities for any nests with > 1 alt\n",
    "    data['P_TRAIN_in_CAR_TRAIN'] = ((alpha_TRAIN_WITH_CAR * data['TRAIN_AV'] * np.exp(data['U_TRAIN'])) ** (1 / beta[4])) / data['U_CAR_TRAIN']\n",
    "    data['P_CAR_in_CAR_TRAIN'] = 1 - data['P_TRAIN_in_CAR_TRAIN']\n",
    "    data['P_TRAIN_in_TRAIN_SM'] = ((alpha_TRAIN_WITH_SM * data['TRAIN_AV'] * np.exp(data['U_TRAIN'])) ** (1 / beta[5])) / data['U_TRAIN_SM']\n",
    "    data['P_SM_in_TRAIN_SM'] = 1 - data['P_TRAIN_in_TRAIN_SM']\n",
    "\n",
    "    # Full probabilities\n",
    "    data['P_TRAIN'] = data['P_nest_CAR_TRAIN'] * data['P_TRAIN_in_CAR_TRAIN'] + data['P_nest_TRAIN_SM'] * data['P_TRAIN_in_TRAIN_SM']\n",
    "    data['P_SM'] = data['P_nest_TRAIN_SM'] * data['P_SM_in_TRAIN_SM']\n",
    "    data['P_CAR'] = data['P_nest_CAR_TRAIN'] * data['P_CAR_in_CAR_TRAIN']\n",
    "\n",
    "    # calculate probability for chosen alternative for each row in the data table\n",
    "    data['P'] = ((data['CHOICE'] == 1) * data['P_TRAIN'] +\n",
    "                 (data['CHOICE'] == 2) * data['P_SM'] +\n",
    "                 (data['CHOICE'] == 3) * data['P_CAR'])\n",
    "\n",
    "    # take product across choices for the same person (likelihood)\n",
    "    # then take the log for log-likelihood\n",
    "    LL = data.groupby('ID')['P'].prod().apply(np.log).sum()\n",
    "\n",
    "    return -LL  # We minimize negative log-likelihood"
   ]
  },
  {
   "cell_type": "code",
   "execution_count": 4,
   "metadata": {},
   "outputs": [
    {
     "name": "stderr",
     "output_type": "stream",
     "text": [
      "/Library/Frameworks/Python.framework/Versions/3.10/lib/python3.10/site-packages/scipy/optimize/_numdiff.py:590: RuntimeWarning: invalid value encountered in subtract\n",
      "  df = fun(x) - f0\n",
      "/Library/Frameworks/Python.framework/Versions/3.10/lib/python3.10/site-packages/scipy/optimize/_numdiff.py:590: RuntimeWarning: invalid value encountered in subtract\n",
      "  df = fun(x) - f0\n",
      "/Library/Frameworks/Python.framework/Versions/3.10/lib/python3.10/site-packages/scipy/optimize/_numdiff.py:590: RuntimeWarning: invalid value encountered in subtract\n",
      "  df = fun(x) - f0\n",
      "/Library/Frameworks/Python.framework/Versions/3.10/lib/python3.10/site-packages/scipy/optimize/_numdiff.py:590: RuntimeWarning: invalid value encountered in subtract\n",
      "  df = fun(x) - f0\n",
      "/Library/Frameworks/Python.framework/Versions/3.10/lib/python3.10/site-packages/scipy/optimize/_numdiff.py:590: RuntimeWarning: invalid value encountered in subtract\n",
      "  df = fun(x) - f0\n",
      "/Library/Frameworks/Python.framework/Versions/3.10/lib/python3.10/site-packages/scipy/optimize/_numdiff.py:590: RuntimeWarning: invalid value encountered in subtract\n",
      "  df = fun(x) - f0\n",
      "/Library/Frameworks/Python.framework/Versions/3.10/lib/python3.10/site-packages/scipy/optimize/_numdiff.py:590: RuntimeWarning: invalid value encountered in subtract\n",
      "  df = fun(x) - f0\n",
      "/Library/Frameworks/Python.framework/Versions/3.10/lib/python3.10/site-packages/scipy/optimize/_numdiff.py:590: RuntimeWarning: invalid value encountered in subtract\n",
      "  df = fun(x) - f0\n",
      "/Library/Frameworks/Python.framework/Versions/3.10/lib/python3.10/site-packages/scipy/optimize/_numdiff.py:590: RuntimeWarning: invalid value encountered in subtract\n",
      "  df = fun(x) - f0\n",
      "/Library/Frameworks/Python.framework/Versions/3.10/lib/python3.10/site-packages/scipy/optimize/_numdiff.py:590: RuntimeWarning: invalid value encountered in subtract\n",
      "  df = fun(x) - f0\n",
      "/Library/Frameworks/Python.framework/Versions/3.10/lib/python3.10/site-packages/scipy/optimize/_numdiff.py:590: RuntimeWarning: invalid value encountered in subtract\n",
      "  df = fun(x) - f0\n",
      "/Library/Frameworks/Python.framework/Versions/3.10/lib/python3.10/site-packages/scipy/optimize/_numdiff.py:590: RuntimeWarning: invalid value encountered in subtract\n",
      "  df = fun(x) - f0\n",
      "/Library/Frameworks/Python.framework/Versions/3.10/lib/python3.10/site-packages/scipy/optimize/_numdiff.py:590: RuntimeWarning: invalid value encountered in subtract\n",
      "  df = fun(x) - f0\n",
      "/Library/Frameworks/Python.framework/Versions/3.10/lib/python3.10/site-packages/scipy/optimize/_numdiff.py:590: RuntimeWarning: invalid value encountered in subtract\n",
      "  df = fun(x) - f0\n"
     ]
    },
    {
     "name": "stdout",
     "output_type": "stream",
     "text": [
      "Optimization Results:\n",
      "                   Parameter  Estimate  Robust Asymptotic SE  t-statistic  \\\n",
      "0                    ASC_CAR -0.234010              0.000152 -1543.924428   \n",
      "1                     ASC_SM -0.126667              0.031472    -4.024814   \n",
      "2                    BETA_TT -0.008182              0.000285   -28.679772   \n",
      "3                    BETA_TC -0.006336              0.000210   -30.177470   \n",
      "4           lambda_CAR_TRAIN  0.357802              0.000323  1108.164002   \n",
      "5            lambda_SM_TRAIN  0.318159              0.022249    14.299887   \n",
      "6  base_alpha_TRAIN_WITH_CAR  0.173009              0.001769    97.808558   \n",
      "\n",
      "    p-value  \n",
      "0  0.000000  \n",
      "1  0.000057  \n",
      "2  0.000000  \n",
      "3  0.000000  \n",
      "4  0.000000  \n",
      "5  0.000000  \n",
      "6  0.000000  \n",
      "AIC: 16986.019515768065\n",
      "BIC: 17036.972047912157\n",
      "Log-likelihood: -8486.009757884032\n"
     ]
    }
   ],
   "source": [
    "# Estimate parameters\n",
    "result, se, t_stat, p_value, aic, bic = estimate_nested_logit(data, beta, beta_names, log_likelihood_SM_CNLM)"
   ]
  }
 ],
 "metadata": {
  "kernelspec": {
   "display_name": "Python 3",
   "language": "python",
   "name": "python3"
  },
  "language_info": {
   "codemirror_mode": {
    "name": "ipython",
    "version": 3
   },
   "file_extension": ".py",
   "mimetype": "text/x-python",
   "name": "python",
   "nbconvert_exporter": "python",
   "pygments_lexer": "ipython3",
   "version": "3.10.7"
  }
 },
 "nbformat": 4,
 "nbformat_minor": 2
}
